{
 "cells": [
  {
   "cell_type": "code",
   "execution_count": 3,
   "metadata": {
    "colab": {
     "base_uri": "https://localhost:8080/"
    },
    "id": "z6HXfux-eBvy",
    "outputId": "61cc4cc4-b81b-46a4-fdb2-499191053bb6"
   },
   "outputs": [
    {
     "name": "stdout",
     "output_type": "stream",
     "text": [
      "[nltk_data] Downloading package stopwords to /root/nltk_data...\n",
      "[nltk_data]   Package stopwords is already up-to-date!\n",
      "[nltk_data] Downloading package wordnet to /root/nltk_data...\n",
      "[nltk_data]   Package wordnet is already up-to-date!\n",
      "[nltk_data] Downloading package punkt to /root/nltk_data...\n",
      "[nltk_data]   Package punkt is already up-to-date!\n",
      "[nltk_data] Downloading package averaged_perceptron_tagger to\n",
      "[nltk_data]     /root/nltk_data...\n",
      "[nltk_data]   Package averaged_perceptron_tagger is already up-to-\n",
      "[nltk_data]       date!\n"
     ]
    }
   ],
   "source": [
    "import pandas as pd\n",
    "\n",
    "import numpy as np \n",
    "import pandas as pd \n",
    "import tensorflow as tf\n",
    "import keras\n",
    "from keras import backend as K\n",
    "from keras.layers import Layer\n",
    "from keras.layers import Concatenate\n",
    "from keras.preprocessing.text import Tokenizer\n",
    "from keras.preprocessing.sequence import pad_sequences\n",
    "from keras.layers import Dense, TimeDistributed, LSTM, Embedding, Input\n",
    "from keras import Model\n",
    "import re\n",
    "import string\n",
    "from nltk.corpus import stopwords\n",
    "from nltk.translate.bleu_score import sentence_bleu\n",
    "from nltk.translate.bleu_score import SmoothingFunction\n",
    "from sklearn.model_selection import train_test_split\n",
    "from keras.layers import Bidirectional\n",
    "\n",
    "\n",
    "!pip install -q wordcloud\n",
    "import wordcloud\n",
    "\n",
    "import nltk\n",
    "nltk.download('stopwords')\n",
    "nltk.download('wordnet')\n",
    "nltk.download('punkt')\n",
    "nltk.download('averaged_perceptron_tagger') \n",
    "\n",
    "import pandas as pd\n",
    "import matplotlib.pyplot as plt\n",
    "import io\n",
    "import unicodedata\n",
    "import numpy as np\n",
    "import re\n",
    "import string"
   ]
  },
  {
   "cell_type": "code",
   "execution_count": 2,
   "metadata": {
    "colab": {
     "base_uri": "https://localhost:8080/"
    },
    "id": "EDw1m6n8eU8P",
    "outputId": "b8498c64-7dc9-4fba-cbcc-15f886570281"
   },
   "outputs": [
    {
     "name": "stdout",
     "output_type": "stream",
     "text": [
      "Mounted at /content/drive\n"
     ]
    }
   ],
   "source": [
    "from google.colab import drive\n",
    "drive.mount('/content/drive')\n"
   ]
  },
  {
   "cell_type": "code",
   "execution_count": 4,
   "metadata": {
    "id": "UPlUA5mBethb"
   },
   "outputs": [],
   "source": [
    "with open('/content/drive/MyDrive/Colab Notebooks/fra.txt','r') as f:\n",
    "  data = f.read()"
   ]
  },
  {
   "cell_type": "code",
   "execution_count": 5,
   "metadata": {
    "colab": {
     "base_uri": "https://localhost:8080/",
     "height": 86
    },
    "id": "tRNfj_tee5NR",
    "outputId": "b7141c85-6fbe-4699-d87e-81d7c6cd4ba8"
   },
   "outputs": [
    {
     "data": {
      "application/vnd.google.colaboratory.intrinsic+json": {
       "type": "string"
      },
      "text/plain": [
       "\"It may be impossible to get a completely error-free corpus due to the nature of this kind of collaborative effort. However, if we encourage members to contribute sentences in their own languages rather than experiment in languages they are learning, we might be able to minimize errors.\\tIl est peut-être impossible d'obtenir un Corpus complètement dénué de fautes, étant donnée la nature de ce type d'entreprise collaborative. Cependant, si nous encourageons les membres à produire des phrases dans leurs propres langues plutôt que d'expérimenter dans les langues qu'ils apprennent, nous pourrions être en mesure de réduire les erreurs.\\tCC-BY 2.0 (France) Attribution: tatoeba.org #2024159 (CK) & #2024564 (sacredceltic)\""
      ]
     },
     "execution_count": 5,
     "metadata": {
      "tags": []
     },
     "output_type": "execute_result"
    }
   ],
   "source": [
    "uncleaned_data_list = data.split('\\n')\n",
    "len(uncleaned_data_list)\n",
    "uncleaned_data_list[189985]"
   ]
  },
  {
   "cell_type": "code",
   "execution_count": 6,
   "metadata": {
    "id": "FeSZmmulfKjQ"
   },
   "outputs": [],
   "source": [
    "uncleaned_data_list = uncleaned_data_list[:189985]"
   ]
  },
  {
   "cell_type": "code",
   "execution_count": 7,
   "metadata": {
    "id": "KO40dzFAfzPF"
   },
   "outputs": [],
   "source": [
    "english_word = []\n",
    "french_word = []\n",
    "for word in uncleaned_data_list:\n",
    "  english_word.append(word.split('\\t')[:-1][0])\n",
    "  french_word.append(word.split('\\t')[:-1][1])"
   ]
  },
  {
   "cell_type": "code",
   "execution_count": 8,
   "metadata": {
    "colab": {
     "base_uri": "https://localhost:8080/"
    },
    "id": "vfT19biBgIyZ",
    "outputId": "2f6dd6e8-6f01-45fa-ae95-49db8f5c36ae"
   },
   "outputs": [
    {
     "data": {
      "text/plain": [
       "(189985, 189985)"
      ]
     },
     "execution_count": 8,
     "metadata": {
      "tags": []
     },
     "output_type": "execute_result"
    }
   ],
   "source": [
    "len(english_word),len(french_word)"
   ]
  },
  {
   "cell_type": "code",
   "execution_count": 9,
   "metadata": {
    "id": "jPVMG9Ewgkak"
   },
   "outputs": [],
   "source": [
    "language_data = pd.DataFrame(columns=['English','French'])\n",
    "language_data['English'] = english_word\n",
    "language_data['French'] = french_word"
   ]
  },
  {
   "cell_type": "code",
   "execution_count": 10,
   "metadata": {
    "id": "0CMtDsnjhBQ9"
   },
   "outputs": [],
   "source": [
    "language_data.head(5)\n",
    "\n",
    "language_data.to_csv('language_data.csv', index=False)"
   ]
  },
  {
   "cell_type": "code",
   "execution_count": 11,
   "metadata": {
    "id": "G8T5dDYkhDFw"
   },
   "outputs": [],
   "source": [
    "contraction_mapping = {\"ain't\": \"is not\", \"aren't\": \"are not\",\"can't\": \"cannot\", \"'cause\": \"because\", \"could've\": \"could have\", \"couldn't\": \"could not\",\n",
    "\n",
    "                           \"didn't\": \"did not\", \"doesn't\": \"does not\", \"don't\": \"do not\", \"hadn't\": \"had not\", \"hasn't\": \"has not\", \"haven't\": \"have not\",\n",
    "\n",
    "                           \"he'd\": \"he would\",\"he'll\": \"he will\", \"he's\": \"he is\", \"how'd\": \"how did\", \"how'd'y\": \"how do you\", \"how'll\": \"how will\", \"how's\": \"how is\",\n",
    "\n",
    "                           \"I'd\": \"I would\", \"I'd've\": \"I would have\", \"I'll\": \"I will\", \"I'll've\": \"I will have\",\"I'm\": \"I am\", \"I've\": \"I have\", \"i'd\": \"i would\",\n",
    "\n",
    "                           \"i'd've\": \"i would have\", \"i'll\": \"i will\",  \"i'll've\": \"i will have\",\"i'm\": \"i am\", \"i've\": \"i have\", \"isn't\": \"is not\", \"it'd\": \"it would\",\n",
    "\n",
    "                           \"it'd've\": \"it would have\", \"it'll\": \"it will\", \"it'll've\": \"it will have\",\"it's\": \"it is\", \"let's\": \"let us\", \"ma'am\": \"madam\",\n",
    "\n",
    "                           \"mayn't\": \"may not\", \"might've\": \"might have\",\"mightn't\": \"might not\",\"mightn't've\": \"might not have\", \"must've\": \"must have\",\n",
    "\n",
    "                           \"mustn't\": \"must not\", \"mustn't've\": \"must not have\", \"needn't\": \"need not\", \"needn't've\": \"need not have\",\"o'clock\": \"of the clock\",\n",
    "\n",
    "                           \"oughtn't\": \"ought not\", \"oughtn't've\": \"ought not have\", \"shan't\": \"shall not\", \"sha'n't\": \"shall not\", \"shan't've\": \"shall not have\",\n",
    "\n",
    "                           \"she'd\": \"she would\", \"she'd've\": \"she would have\", \"she'll\": \"she will\", \"she'll've\": \"she will have\", \"she's\": \"she is\",\n",
    "\n",
    "                           \"should've\": \"should have\", \"shouldn't\": \"should not\", \"shouldn't've\": \"should not have\", \"so've\": \"so have\",\"so's\": \"so as\",\n",
    "\n",
    "                           \"this's\": \"this is\",\"that'd\": \"that would\", \"that'd've\": \"that would have\", \"that's\": \"that is\", \"there'd\": \"there would\",\n",
    "\n",
    "                           \"there'd've\": \"there would have\", \"there's\": \"there is\", \"here's\": \"here is\",\"they'd\": \"they would\", \"they'd've\": \"they would have\",\n",
    "\n",
    "                           \"they'll\": \"they will\", \"they'll've\": \"they will have\", \"they're\": \"they are\", \"they've\": \"they have\", \"to've\": \"to have\",\n",
    "\n",
    "                           \"wasn't\": \"was not\", \"we'd\": \"we would\", \"we'd've\": \"we would have\", \"we'll\": \"we will\", \"we'll've\": \"we will have\", \"we're\": \"we are\",\n",
    "\n",
    "                           \"we've\": \"we have\", \"weren't\": \"were not\", \"what'll\": \"what will\", \"what'll've\": \"what will have\", \"what're\": \"what are\",\n",
    "\n",
    "                           \"what's\": \"what is\", \"what've\": \"what have\", \"when's\": \"when is\", \"when've\": \"when have\", \"where'd\": \"where did\", \"where's\": \"where is\",\n",
    "\n",
    "                           \"where've\": \"where have\", \"who'll\": \"who will\", \"who'll've\": \"who will have\", \"who's\": \"who is\", \"who've\": \"who have\",\n",
    "\n",
    "                           \"why's\": \"why is\", \"why've\": \"why have\", \"will've\": \"will have\", \"won't\": \"will not\", \"won't've\": \"will not have\",\n",
    "\n",
    "                           \"would've\": \"would have\", \"wouldn't\": \"would not\", \"wouldn't've\": \"would not have\", \"y'all\": \"you all\",\n",
    "\n",
    "                           \"y'all'd\": \"you all would\",\"y'all'd've\": \"you all would have\",\"y'all're\": \"you all are\",\"y'all've\": \"you all have\",\n",
    "\n",
    "                           \"you'd\": \"you would\", \"you'd've\": \"you would have\", \"you'll\": \"you will\", \"you'll've\": \"you will have\",\n",
    "\n",
    "                           \"you're\": \"you are\", \"you've\": \"you have\"}"
   ]
  },
  {
   "cell_type": "code",
   "execution_count": 12,
   "metadata": {
    "id": "vtMP3a07ha0T"
   },
   "outputs": [],
   "source": [
    "StopWords = set(nltk.corpus.stopwords.words('english')+nltk.corpus.stopwords.words('french'))\n",
    "def preprocess(text):\n",
    "    new_text = text.lower()\n",
    "    new_text = re.sub(r'\\([^)]*\\)', '', new_text) \n",
    "    new_text = re.sub('\"','', new_text)\n",
    "    new_text = ' '.join([contraction_mapping[t] if t in contraction_mapping else t for t in new_text.split(\" \")])   \n",
    "    new_text = re.sub(r\"'s\\b\",\"\",new_text) \n",
    "    new_text = re.sub(\"[^a-zA-Z]\", \" \", new_text)\n",
    "    new_text = ' '.join([word for word in new_text.split() if word not in StopWords]) \n",
    "    new_text = ' '.join([word for word in new_text.split() if len(word) >= 3]) \n",
    "    return new_text\n",
    "\n",
    "\n"
   ]
  },
  {
   "cell_type": "code",
   "execution_count": 13,
   "metadata": {
    "id": "XogUX7d-lcRD"
   },
   "outputs": [],
   "source": [
    "language_data['English']=language_data['English'].apply(lambda x: preprocess(x))\n",
    "language_data['French']=language_data['French'].apply(lambda x: preprocess(x))"
   ]
  },
  {
   "cell_type": "code",
   "execution_count": 14,
   "metadata": {
    "id": "_9wrg9dtle2i"
   },
   "outputs": [],
   "source": [
    "language_data['French']=language_data['French'].apply(lambda x: '<START>' + ' '+ x + ' '+ '<END>')"
   ]
  },
  {
   "cell_type": "code",
   "execution_count": 15,
   "metadata": {
    "id": "gu6rOBgUmBUj"
   },
   "outputs": [],
   "source": [
    "X=language_data['English']\n",
    "y=language_data['French']"
   ]
  },
  {
   "cell_type": "code",
   "execution_count": 16,
   "metadata": {
    "colab": {
     "base_uri": "https://localhost:8080/"
    },
    "id": "zYlAToX4mENS",
    "outputId": "53127722-79e5-4264-dcbc-edd9f860c3e8"
   },
   "outputs": [
    {
     "data": {
      "text/plain": [
       "(151988, 151988, 37997, 37997)"
      ]
     },
     "execution_count": 16,
     "metadata": {
      "tags": []
     },
     "output_type": "execute_result"
    }
   ],
   "source": [
    "X_train, X_test, y_train, y_test = train_test_split(X,y,test_size = 0.2)\n",
    "len(X_train),len(y_train), len(X_test), len(y_test)"
   ]
  },
  {
   "cell_type": "code",
   "execution_count": 17,
   "metadata": {
    "colab": {
     "base_uri": "https://localhost:8080/"
    },
    "id": "w77hZBVLpMYP",
    "outputId": "1960a193-ec09-4181-d75b-52fc97c65907"
   },
   "outputs": [
    {
     "name": "stdout",
     "output_type": "stream",
     "text": [
      "23 33\n"
     ]
    }
   ],
   "source": [
    "max_eng = max([len(text.split()) for text in language_data['English']])\n",
    "max_french = max([len(text.split()) for text in language_data['French']])\n",
    "print(max_eng, max_french)"
   ]
  },
  {
   "cell_type": "code",
   "execution_count": 18,
   "metadata": {
    "id": "wGXyikpGmrQM"
   },
   "outputs": [],
   "source": [
    "\n",
    "english_tokenizer = Tokenizer(oov_token='OOV')\n",
    "english_tokenizer.fit_on_texts(list(X_train))\n",
    "X_train = english_tokenizer.texts_to_sequences(X_train)\n",
    "X_test = english_tokenizer.texts_to_sequences(X_test)\n",
    "X_train = pad_sequences(X_train, maxlen=max_eng, padding='post') \n",
    "X_test = pad_sequences(X_test, maxlen=max_eng, padding='post')\n",
    "#Vocab size of texts.\n",
    "english_vocab = len(english_tokenizer.word_index) + 1\n",
    "\n",
    "\n",
    "french_tokenizer = Tokenizer(oov_token='OOV')\n",
    "french_tokenizer.fit_on_texts(list(y_train))\n",
    "y_train = french_tokenizer.texts_to_sequences(y_train)\n",
    "y_test = french_tokenizer.texts_to_sequences(y_test)\n",
    "y_train = pad_sequences(y_train, maxlen=max_french, padding='post')\n",
    "y_test = pad_sequences(y_test, maxlen=max_french, padding='post')\n",
    "#Vocab size of summaries.\n",
    "french_vocab = len(french_tokenizer.word_index) + 1"
   ]
  },
  {
   "cell_type": "code",
   "execution_count": 19,
   "metadata": {
    "id": "8-9hUrcRqbaI"
   },
   "outputs": [],
   "source": [
    "Eword2index=english_tokenizer.word_index\n",
    "Fword2index=french_tokenizer.word_index"
   ]
  },
  {
   "cell_type": "code",
   "execution_count": 20,
   "metadata": {
    "id": "wJbkwhlto3UI"
   },
   "outputs": [],
   "source": [
    "import pickle as pkl\n",
    "with open('NMT_data.pkl','wb') as f:\n",
    "  pkl.dump([X_train, y_train, X_test, y_test],f)\n",
    "with open('NMT_Etokenizer.pkl','wb') as f:\n",
    "  pkl.dump([english_vocab, Eword2index, english_tokenizer], f)\n",
    "with open('NMT_Mtokenizer.pkl', 'wb') as f:\n",
    "  pkl.dump([french_vocab, Fword2index, french_tokenizer], f)"
   ]
  },
  {
   "cell_type": "code",
   "execution_count": 21,
   "metadata": {
    "colab": {
     "base_uri": "https://localhost:8080/"
    },
    "id": "DsvtrPXiqqG9",
    "outputId": "71754576-2a57-41d4-ca6e-a9a0487db67e"
   },
   "outputs": [
    {
     "name": "stdout",
     "output_type": "stream",
     "text": [
      "Loaded 400000 word vectors.\n"
     ]
    }
   ],
   "source": [
    "embeddings_index = dict()\n",
    "f = open('/content/drive/MyDrive/Colab Notebooks/glove.6B.300d.txt')\n",
    "\n",
    "for line in f:\n",
    "    values = line.split()\n",
    "    word = values[0]\n",
    "    coefs = np.asarray(values[1:], dtype='float32')\n",
    "    embeddings_index[word] = coefs\n",
    "\n",
    "f.close()\n",
    "print('Loaded %s word vectors.' % len(embeddings_index))"
   ]
  },
  {
   "cell_type": "code",
   "execution_count": 22,
   "metadata": {
    "id": "SLtmzncQrFD6"
   },
   "outputs": [],
   "source": [
    "embedding_matrix = np.zeros((english_vocab, 300))\n",
    "\n",
    "for word, i in english_tokenizer.word_index.items():\n",
    "    embedding_vector = embeddings_index.get(word)\n",
    "    if embedding_vector is not None:\n",
    "        embedding_matrix[i] = embedding_vector"
   ]
  },
  {
   "cell_type": "code",
   "execution_count": 23,
   "metadata": {
    "id": "QwJ_NUUtrKMr"
   },
   "outputs": [],
   "source": [
    "\n",
    "embedding_matrix1 = np.zeros((french_vocab, 300))\n",
    "\n",
    "for word, i in french_tokenizer.word_index.items():\n",
    "    embedding_vector = embeddings_index.get(word)\n",
    "    if embedding_vector is not None:\n",
    "        embedding_matrix1[i] = embedding_vector"
   ]
  },
  {
   "cell_type": "code",
   "execution_count": 24,
   "metadata": {
    "id": "rQF6mhFSrU69"
   },
   "outputs": [],
   "source": [
    "class AttentionLayer(Layer):\n",
    "    \n",
    "\n",
    "    def __init__(self, **kwargs):\n",
    "        super(AttentionLayer, self).__init__(**kwargs)\n",
    "\n",
    "    def build(self, input_shape):\n",
    "        assert isinstance(input_shape, list)\n",
    "        # Create a trainable weight variable for this layer.\n",
    "\n",
    "        self.W_a = self.add_weight(name='W_a',\n",
    "                                   shape=tf.TensorShape((input_shape[0][2], input_shape[0][2])),\n",
    "                                   initializer='uniform',\n",
    "                                   trainable=True)\n",
    "        self.U_a = self.add_weight(name='U_a',\n",
    "                                   shape=tf.TensorShape((input_shape[1][2], input_shape[0][2])),\n",
    "                                   initializer='uniform',\n",
    "                                   trainable=True)\n",
    "        self.V_a = self.add_weight(name='V_a',\n",
    "                                   shape=tf.TensorShape((input_shape[0][2], 1)),\n",
    "                                   initializer='uniform',\n",
    "                                   trainable=True)\n",
    "\n",
    "        super(AttentionLayer, self).build(input_shape)  # Be sure to call this at the end\n",
    "\n",
    "    def call(self, inputs, verbose=False):\n",
    "        \n",
    "        assert type(inputs) == list\n",
    "        encoder_out_seq, decoder_out_seq = inputs\n",
    "        if verbose:\n",
    "            print('encoder_out_seq>', encoder_out_seq.shape)\n",
    "            print('decoder_out_seq>', decoder_out_seq.shape)\n",
    "\n",
    "        def energy_step(inputs, states):\n",
    "            \n",
    "\n",
    "            assert_msg = \"States must be a list. However states {} is of type {}\".format(states, type(states))\n",
    "            assert isinstance(states, list) or isinstance(states, tuple), assert_msg\n",
    "\n",
    "            \n",
    "            en_seq_len, en_hidden = encoder_out_seq.shape[1], encoder_out_seq.shape[2]\n",
    "            de_hidden = inputs.shape[-1]\n",
    "\n",
    "            \n",
    "            # <= batch_size*en_seq_len, latent_dim\n",
    "            reshaped_enc_outputs = K.reshape(encoder_out_seq, (-1, en_hidden))\n",
    "            # <= batch_size*en_seq_len, latent_dim\n",
    "            W_a_dot_s = K.reshape(K.dot(reshaped_enc_outputs, self.W_a), (-1, en_seq_len, en_hidden))\n",
    "            if verbose:\n",
    "                print('wa.s>',W_a_dot_s.shape)\n",
    "\n",
    "            \n",
    "            U_a_dot_h = K.expand_dims(K.dot(inputs, self.U_a), 1)  # <= batch_size, 1, latent_dim\n",
    "            if verbose:\n",
    "                print('Ua.h>',U_a_dot_h.shape)\n",
    "\n",
    "            \n",
    "            # <= batch_size*en_seq_len, latent_dim\n",
    "            reshaped_Ws_plus_Uh = K.tanh(K.reshape(W_a_dot_s + U_a_dot_h, (-1, en_hidden)))\n",
    "            if verbose:\n",
    "                print('Ws+Uh>', reshaped_Ws_plus_Uh.shape)\n",
    "\n",
    "            # <= batch_size, en_seq_len\n",
    "            e_i = K.reshape(K.dot(reshaped_Ws_plus_Uh, self.V_a), (-1, en_seq_len))\n",
    "            # <= batch_size, en_seq_len\n",
    "            e_i = K.softmax(e_i)\n",
    "\n",
    "            if verbose:\n",
    "                print('ei>', e_i.shape)\n",
    "\n",
    "            return e_i, [e_i]\n",
    "\n",
    "        def context_step(inputs, states):\n",
    "           \n",
    "            # <= batch_size, hidden_size\n",
    "            c_i = K.sum(encoder_out_seq * K.expand_dims(inputs, -1), axis=1)\n",
    "            if verbose:\n",
    "                print('ci>', c_i.shape)\n",
    "            return c_i, [c_i]\n",
    "\n",
    "        def create_inital_state(inputs, hidden_size):\n",
    "            # We are not using initial states, but need to pass something to K.rnn funciton\n",
    "            fake_state = K.zeros_like(inputs)  # <= (batch_size, enc_seq_len, latent_dim\n",
    "            fake_state = K.sum(fake_state, axis=[1, 2])  # <= (batch_size)\n",
    "            fake_state = K.expand_dims(fake_state)  # <= (batch_size, 1)\n",
    "            fake_state = K.tile(fake_state, [1, hidden_size])  # <= (batch_size, latent_dim\n",
    "            return fake_state\n",
    "\n",
    "        fake_state_c = create_inital_state(encoder_out_seq, encoder_out_seq.shape[-1])\n",
    "        fake_state_e = create_inital_state(encoder_out_seq, encoder_out_seq.shape[1])  # <= (batch_size, enc_seq_len, latent_dim\n",
    "\n",
    "        \n",
    "        # e_outputs => (batch_size, de_seq_len, en_seq_len)\n",
    "        last_out, e_outputs, _ = K.rnn(\n",
    "            energy_step, decoder_out_seq, [fake_state_e],\n",
    "        )\n",
    "\n",
    "        \n",
    "        last_out, c_outputs, _ = K.rnn(\n",
    "            context_step, e_outputs, [fake_state_c],\n",
    "        )\n",
    "\n",
    "        return c_outputs, e_outputs\n",
    "\n",
    "    def compute_output_shape(self, input_shape):\n",
    "        \n",
    "        return [\n",
    "            tf.TensorShape((input_shape[1][0], input_shape[1][1], input_shape[1][2])),\n",
    "            tf.TensorShape((input_shape[1][0], input_shape[1][1], input_shape[0][1]))\n",
    "        ]"
   ]
  },
  {
   "cell_type": "code",
   "execution_count": 25,
   "metadata": {
    "colab": {
     "base_uri": "https://localhost:8080/"
    },
    "id": "uNzmCfaCra3z",
    "outputId": "b90dc04f-b0d8-43f8-b6d3-d58fb445a109"
   },
   "outputs": [
    {
     "name": "stdout",
     "output_type": "stream",
     "text": [
      "WARNING:tensorflow:Layer lstm will not use cuDNN kernels since it doesn't meet the criteria. It will use a generic GPU kernel as fallback when running on GPU.\n",
      "WARNING:tensorflow:Layer lstm_1 will not use cuDNN kernels since it doesn't meet the criteria. It will use a generic GPU kernel as fallback when running on GPU.\n",
      "WARNING:tensorflow:Layer lstm_2 will not use cuDNN kernels since it doesn't meet the criteria. It will use a generic GPU kernel as fallback when running on GPU.\n",
      "WARNING:tensorflow:Layer lstm_3 will not use cuDNN kernels since it doesn't meet the criteria. It will use a generic GPU kernel as fallback when running on GPU.\n",
      "Model: \"model\"\n",
      "__________________________________________________________________________________________________\n",
      "Layer (type)                    Output Shape         Param #     Connected to                     \n",
      "==================================================================================================\n",
      "input_1 (InputLayer)            [(None, 23)]         0                                            \n",
      "__________________________________________________________________________________________________\n",
      "embedding (Embedding)           (None, 23, 300)      4080300     input_1[0][0]                    \n",
      "__________________________________________________________________________________________________\n",
      "lstm (LSTM)                     [(None, 23, 500), (N 1602000     embedding[0][0]                  \n",
      "__________________________________________________________________________________________________\n",
      "input_2 (InputLayer)            [(None, None)]       0                                            \n",
      "__________________________________________________________________________________________________\n",
      "lstm_1 (LSTM)                   [(None, 23, 500), (N 2002000     lstm[0][0]                       \n",
      "__________________________________________________________________________________________________\n",
      "embedding_1 (Embedding)         (None, None, 300)    5760600     input_2[0][0]                    \n",
      "__________________________________________________________________________________________________\n",
      "lstm_2 (LSTM)                   [(None, 23, 500), (N 2002000     lstm_1[0][0]                     \n",
      "__________________________________________________________________________________________________\n",
      "lstm_3 (LSTM)                   [(None, None, 500),  1602000     embedding_1[0][0]                \n",
      "                                                                 lstm_2[0][1]                     \n",
      "                                                                 lstm_2[0][2]                     \n",
      "__________________________________________________________________________________________________\n",
      "attention_layer (AttentionLayer ((None, None, 500),  500500      lstm_2[0][0]                     \n",
      "                                                                 lstm_3[0][0]                     \n",
      "__________________________________________________________________________________________________\n",
      "concat_layer (Concatenate)      (None, None, 1000)   0           lstm_3[0][0]                     \n",
      "                                                                 attention_layer[0][0]            \n",
      "__________________________________________________________________________________________________\n",
      "time_distributed (TimeDistribut (None, None, 19202)  19221202    concat_layer[0][0]               \n",
      "==================================================================================================\n",
      "Total params: 36,770,602\n",
      "Trainable params: 36,770,602\n",
      "Non-trainable params: 0\n",
      "__________________________________________________________________________________________________\n"
     ]
    }
   ],
   "source": [
    "K.clear_session()\n",
    "\n",
    "embedding_dim = 300 \n",
    "latent_dim = 500 \n",
    "\n",
    "encoder_input = Input(shape=(max_eng, ))\n",
    "encoder_emb = Embedding(english_vocab, embedding_dim,weights=[embedding_matrix], trainable=True)(encoder_input) #Embedding Layer\n",
    "\n",
    "encoder_lstm1 = LSTM(latent_dim, return_sequences=True, return_state=True, dropout=0.3, recurrent_dropout=0.2)\n",
    "y_1, a_1, c_1 = encoder_lstm1(encoder_emb)\n",
    "\n",
    "encoder_lstm2 = LSTM(latent_dim, return_sequences=True, return_state=True, dropout=0.3, recurrent_dropout=0.2)\n",
    "y_2, a_2, c_2 = encoder_lstm2(y_1)\n",
    "\n",
    "encoder_lstm3 = LSTM(latent_dim, return_sequences=True, return_state=True, dropout=0.3, recurrent_dropout=0.2)\n",
    "encoder_output, a_enc, c_enc = encoder_lstm3(y_2)\n",
    "\n",
    "decoder_input = Input(shape=(None,))\n",
    "decoder_emb = Embedding(french_vocab, embedding_dim,weights=[embedding_matrix1], trainable=True)(decoder_input)\n",
    "\n",
    "decoder_lstm = LSTM(latent_dim, return_sequences=True, return_state=True, dropout=0.3, recurrent_dropout=0.2)\n",
    "decoder_output, decoder_fwd, decoder_back = decoder_lstm(decoder_emb, initial_state=[a_enc, c_enc]) #Final output states of encoder last layer are fed into decoder.\n",
    "\n",
    "#Attention Layer\n",
    "attn_layer = AttentionLayer(name='attention_layer') \n",
    "attn_out, attn_states = attn_layer([encoder_output, decoder_output]) \n",
    "\n",
    "decoder_concat_input = Concatenate(axis=-1, name='concat_layer')([decoder_output, attn_out])\n",
    "\n",
    "decoder_dense = TimeDistributed(Dense(french_vocab, activation='softmax'))\n",
    "decoder_output = decoder_dense(decoder_concat_input)\n",
    "\n",
    "model = Model([encoder_input, decoder_input], decoder_output)\n",
    "model.summary()"
   ]
  },
  {
   "cell_type": "code",
   "execution_count": 26,
   "metadata": {
    "colab": {
     "base_uri": "https://localhost:8080/",
     "height": 976
    },
    "id": "f667c7ClrgVH",
    "outputId": "cb0f5838-6534-4cb1-d5c0-e446adfcce72"
   },
   "outputs": [
    {
     "data": {
      "image/png": "[encoded data removed]",
      "text/plain": [
       "<IPython.core.display.Image object>"
      ]
     },
     "execution_count": 26,
     "metadata": {
      "tags": []
     },
     "output_type": "execute_result"
    }
   ],
   "source": [
    "from tensorflow.keras.models import Model,load_model, model_from_json\n",
    "from tensorflow.keras.utils import plot_model\n",
    "plot_model(model, to_file='train_model.png', show_shapes=True)"
   ]
  },
  {
   "cell_type": "code",
   "execution_count": 27,
   "metadata": {
    "id": "SyW28j5utXZ8"
   },
   "outputs": [],
   "source": [
    "model.compile(optimizer='rmsprop', loss='sparse_categorical_crossentropy', metrics=['accuracy'])\n",
    "es = keras.callbacks.EarlyStopping(monitor='val_loss', mode='min', verbose=1)\n",
    "checkpoint_filepath = '/content/drive/MyDrive/Colab Notebooks/model.hdf5'\n",
    "model_checkpoint_callback = tf.keras.callbacks.ModelCheckpoint(\n",
    "    filepath=checkpoint_filepath,\n",
    "    save_weights_only=True,\n",
    "    monitor='val_accuracy',\n",
    "    mode='max',\n",
    "    save_best_only=True)"
   ]
  },
  {
   "cell_type": "code",
   "execution_count": 28,
   "metadata": {
    "id": "w2RX2C2Dy1i_"
   },
   "outputs": [],
   "source": [
    "#K.set_value(model.optimizer.learning_rate, 0.0005)"
   ]
  },
  {
   "cell_type": "code",
   "execution_count": 29,
   "metadata": {
    "colab": {
     "base_uri": "https://localhost:8080/"
    },
    "id": "kvEkxtl6zACR",
    "outputId": "41360e61-4129-474d-97b4-c649a0aad8e4"
   },
   "outputs": [
    {
     "name": "stdout",
     "output_type": "stream",
     "text": [
      "Epoch 1/20\n",
      "297/297 [==============================] - 540s 2s/step - loss: 1.2333 - accuracy: 0.8752 - val_loss: 0.6716 - val_accuracy: 0.9081\n",
      "Epoch 2/20\n",
      "297/297 [==============================] - 502s 2s/step - loss: 0.6177 - accuracy: 0.9125 - val_loss: 0.5066 - val_accuracy: 0.9237\n",
      "Epoch 3/20\n",
      "297/297 [==============================] - 498s 2s/step - loss: 0.4742 - accuracy: 0.9262 - val_loss: 0.4309 - val_accuracy: 0.9323\n",
      "Epoch 4/20\n",
      "297/297 [==============================] - 494s 2s/step - loss: 0.3977 - accuracy: 0.9345 - val_loss: 0.3910 - val_accuracy: 0.9368\n",
      "Epoch 5/20\n",
      "297/297 [==============================] - 490s 2s/step - loss: 0.3486 - accuracy: 0.9399 - val_loss: 0.3676 - val_accuracy: 0.9398\n",
      "Epoch 6/20\n",
      "297/297 [==============================] - 490s 2s/step - loss: 0.3160 - accuracy: 0.9439 - val_loss: 0.3500 - val_accuracy: 0.9422\n",
      "Epoch 7/20\n",
      "297/297 [==============================] - 486s 2s/step - loss: 0.2899 - accuracy: 0.9469 - val_loss: 0.3379 - val_accuracy: 0.9436\n",
      "Epoch 8/20\n",
      "297/297 [==============================] - 486s 2s/step - loss: 0.2698 - accuracy: 0.9493 - val_loss: 0.3308 - val_accuracy: 0.9444\n",
      "Epoch 9/20\n",
      "297/297 [==============================] - 485s 2s/step - loss: 0.2507 - accuracy: 0.9517 - val_loss: 0.3256 - val_accuracy: 0.9453\n",
      "Epoch 10/20\n",
      "297/297 [==============================] - 483s 2s/step - loss: 0.2358 - accuracy: 0.9538 - val_loss: 0.3201 - val_accuracy: 0.9461\n",
      "Epoch 11/20\n",
      "297/297 [==============================] - 484s 2s/step - loss: 0.2226 - accuracy: 0.9555 - val_loss: 0.3161 - val_accuracy: 0.9466\n",
      "Epoch 12/20\n",
      "297/297 [==============================] - 484s 2s/step - loss: 0.2114 - accuracy: 0.9570 - val_loss: 0.3162 - val_accuracy: 0.9467\n",
      "Epoch 13/20\n",
      "297/297 [==============================] - 485s 2s/step - loss: 0.2008 - accuracy: 0.9585 - val_loss: 0.3117 - val_accuracy: 0.9476\n",
      "Epoch 14/20\n",
      "297/297 [==============================] - 484s 2s/step - loss: 0.1910 - accuracy: 0.9599 - val_loss: 0.3102 - val_accuracy: 0.9477\n",
      "Epoch 15/20\n",
      "297/297 [==============================] - 483s 2s/step - loss: 0.1832 - accuracy: 0.9609 - val_loss: 0.3091 - val_accuracy: 0.9481\n",
      "Epoch 16/20\n",
      "297/297 [==============================] - 482s 2s/step - loss: 0.1756 - accuracy: 0.9621 - val_loss: 0.3080 - val_accuracy: 0.9484\n",
      "Epoch 17/20\n",
      "297/297 [==============================] - 483s 2s/step - loss: 0.1677 - accuracy: 0.9634 - val_loss: 0.3092 - val_accuracy: 0.9481\n",
      "Epoch 18/20\n",
      "297/297 [==============================] - 482s 2s/step - loss: 0.1617 - accuracy: 0.9642 - val_loss: 0.3075 - val_accuracy: 0.9487\n",
      "Epoch 19/20\n",
      "297/297 [==============================] - 482s 2s/step - loss: 0.1566 - accuracy: 0.9650 - val_loss: 0.3072 - val_accuracy: 0.9488\n",
      "Epoch 20/20\n",
      "297/297 [==============================] - 483s 2s/step - loss: 0.1507 - accuracy: 0.9659 - val_loss: 0.3070 - val_accuracy: 0.9486\n"
     ]
    }
   ],
   "source": [
    "history=model.fit([X_train,y_train[:,:-1]], y_train.reshape(y_train.shape[0],y_train.shape[1], 1)[:,1:] ,epochs=20,callbacks=[es,model_checkpoint_callback],batch_size=512, validation_data=([X_test,y_test[:,:-1]], y_test.reshape(y_test.shape[0],y_test.shape[1], 1)[:,1:]))"
   ]
  },
  {
   "cell_type": "code",
   "execution_count": 38,
   "metadata": {
    "id": "i-GZqKDI5FN_"
   },
   "outputs": [],
   "source": [
    "model.save('/content/drive/MyDrive/Colab Notebooks/mlt.h5')"
   ]
  },
  {
   "cell_type": "code",
   "execution_count": 39,
   "metadata": {
    "colab": {
     "base_uri": "https://localhost:8080/",
     "height": 265
    },
    "id": "u0KrBFvW9mdQ",
    "outputId": "c417788c-68c8-4cee-b7ab-eecd373a8525"
   },
   "outputs": [
    {
     "data": {
      "image/png": "[encoded data removed]",
      "text/plain": [
       "<Figure size 432x288 with 1 Axes>"
      ]
     },
     "metadata": {
      "needs_background": "light",
      "tags": []
     },
     "output_type": "display_data"
    }
   ],
   "source": [
    "from matplotlib import pyplot \n",
    "pyplot.plot(history.history['loss'], label='train') \n",
    "pyplot.plot(history.history['val_loss'], label='test') \n",
    "pyplot.legend() \n",
    "pyplot.show()"
   ]
  },
  {
   "cell_type": "code",
   "execution_count": 40,
   "metadata": {
    "id": "eAWs4bnBWuTR"
   },
   "outputs": [],
   "source": [
    "encoder_model = Model(inputs=encoder_input, outputs=[encoder_output, a_enc, c_enc])\n",
    "\n",
    "\n",
    "decoder_initial_state_a = Input(shape=(latent_dim,))\n",
    "decoder_initial_state_c = Input(shape=(latent_dim,))\n",
    "decoder_hidden_state = Input(shape=(max_eng, latent_dim))\n",
    "\n",
    "decoder_out, decoder_a, decoder_c = decoder_lstm(decoder_emb, initial_state=[decoder_initial_state_a, decoder_initial_state_c])\n",
    "attn_out_inf, attn_states_inf = attn_layer([decoder_hidden_state, decoder_out])\n",
    "decoder_inf_concat = Concatenate(axis=-1, name='concat')([decoder_out, attn_out_inf])\n",
    "\n",
    "decoder_final = decoder_dense(decoder_inf_concat)\n",
    "decoder_model = Model([decoder_input]+[decoder_hidden_state, decoder_initial_state_a, decoder_initial_state_c], [decoder_final]+[decoder_a, decoder_c])"
   ]
  },
  {
   "cell_type": "code",
   "execution_count": 41,
   "metadata": {
    "id": "7JPNpUGQXsl8"
   },
   "outputs": [],
   "source": [
    "def decoded_sequence(input_seq):\n",
    "    encoder_out, encoder_a, encoder_c = encoder_model.predict(input_seq) #Collecting output from encoder inference model.\n",
    "    \n",
    "    next_input = np.zeros((1,1))\n",
    "    next_input[0,0] = french_tokenizer.word_index['start']\n",
    "    output_seq = ''\n",
    "    \n",
    "    stop = False\n",
    "    while not stop:\n",
    "        decoded_out, trans_state_a, trans_state_c = decoder_model.predict([next_input] + [encoder_out, encoder_a, encoder_c])\n",
    "        \n",
    "        output_idx = np.argmax(decoded_out[0, -1, :])\n",
    "    \n",
    "        if output_idx == french_tokenizer.word_index['end']: \n",
    "            stop = True\n",
    "        elif output_idx>0 and output_idx != french_tokenizer.word_index['start'] :\n",
    "            output_token = french_tokenizer.index_word[output_idx] \n",
    "            output_seq = output_seq + ' ' + output_token \n",
    "        \n",
    "        \n",
    "        next_input[0,0] = output_idx\n",
    "       \n",
    "        encoder_a, encoder_c = trans_state_a, trans_state_c\n",
    "        \n",
    "    return output_seq        "
   ]
  },
  {
   "cell_type": "code",
   "execution_count": 42,
   "metadata": {
    "id": "r-YvUV5Sb_yY"
   },
   "outputs": [],
   "source": [
    "Eindex2word = english_tokenizer.index_word\n",
    "Mindex2word = french_tokenizer.index_word"
   ]
  },
  {
   "cell_type": "code",
   "execution_count": 43,
   "metadata": {
    "id": "xNT4eBRza0Xv"
   },
   "outputs": [],
   "source": [
    "def seq2summary(input_seq):\n",
    "    newString=''\n",
    "    for i in input_seq:\n",
    "      if((i!=0 and i!=Fword2index['start']) and i!=Fword2index['end']):\n",
    "        newString=newString+Mindex2word[i]+' '\n",
    "    return newString\n",
    "def seq2text(input_seq):\n",
    "  newString=''\n",
    "  for i in input_seq:\n",
    "    if(i!=0):\n",
    "      newString=newString+Eindex2word[i]+' '\n",
    "  return newString"
   ]
  },
  {
   "cell_type": "code",
   "execution_count": 44,
   "metadata": {
    "colab": {
     "base_uri": "https://localhost:8080/"
    },
    "id": "cx6_BvE3saRR",
    "outputId": "4d898449-3ba4-469b-ec7e-eb7d93ccfc0a"
   },
   "outputs": [
    {
     "name": "stdout",
     "output_type": "stream",
     "text": [
      "Review: hope boring \n",
      "Original summary: esp ennuie \n",
      "Predicted summary:  esp trop ennuyeux\n",
      "\n",
      "\n",
      "Review: allowed \n",
      "Original summary: cela permis \n",
      "Predicted summary:  autoris\n",
      "\n",
      "\n",
      "Review: look fabulous \n",
      "Original summary: air resplendissante \n",
      "Predicted summary:  air resplendissant\n",
      "\n",
      "\n",
      "Review: deals furniture \n",
      "Original summary: fait commerce meubles \n",
      "Predicted summary:  propri taire\n",
      "\n",
      "\n",
      "Review: book \n",
      "Original summary: livre \n",
      "Predicted summary:  livre\n",
      "\n",
      "\n",
      "Review: think funny \n",
      "Original summary: pense marrante \n",
      "Predicted summary:  pense amusant\n",
      "\n",
      "\n",
      "Review: suit anything cheap \n",
      "Original summary: costume tout sauf bon march \n",
      "Predicted summary:  cette quelque chose auquel bon march\n",
      "\n",
      "\n",
      "Review: ran ahead warn everybody \n",
      "Original summary: courus devant avertir tout monde \n",
      "Predicted summary:  couru devant avertir tout monde\n",
      "\n",
      "\n",
      "Review: find get best flavor OOV fresh OOV \n",
      "Original summary: trouve obtiens meilleure saveur moulant grains poivre frais \n",
      "Predicted summary:  trouv meilleur meilleur moyen agir glac\n",
      "\n",
      "\n",
      "Review: right \n",
      "Original summary: devrais faire champ \n",
      "Predicted summary:  juste\n",
      "\n",
      "\n",
      "Review: speech made sense \n",
      "Original summary: discours aucun sens \n",
      "Predicted summary:  discours tait sens\n",
      "\n",
      "\n",
      "Review: let take nap \n",
      "Original summary: laisse faire sieste \n",
      "Predicted summary:  faisons faire sieste\n",
      "\n",
      "\n",
      "Review: officer inspired men brave \n",
      "Original summary: officier encouragea hommes faire preuve bravoure \n",
      "Predicted summary:  officier courage courage hommes\n",
      "\n",
      "\n",
      "Review: one \n",
      "Original summary: agit tres \n",
      "Predicted summary:  puis avoir\n",
      "\n",
      "\n",
      "Review: canceled \n",
      "Original summary: annul \n",
      "Predicted summary:  annul\n",
      "\n",
      "\n"
     ]
    }
   ],
   "source": [
    "\n",
    "for i in range(15):\n",
    "  print(\"Review:\",seq2text(X_test[i]))\n",
    "  print(\"Original summary:\",seq2summary(y_test[i]))\n",
    "  print(\"Predicted summary:\",decoded_sequence(X_test[i].reshape(1,23)))\n",
    "  print(\"\\n\")"
   ]
  }
 ],
 "metadata": {
  "accelerator": "GPU",
  "colab": {
   "collapsed_sections": [],
   "name": " MLT.ipynb",
   "provenance": []
  },
  "kernelspec": {
   "display_name": "Python 3",
   "language": "python",
   "name": "python3"
  },
  "language_info": {
   "codemirror_mode": {
    "name": "ipython",
    "version": 3
   },
   "file_extension": ".py",
   "mimetype": "text/x-python",
   "name": "python",
   "nbconvert_exporter": "python",
   "pygments_lexer": "ipython3",
   "version": "3.8.10"
  }
 },
 "nbformat": 4,
 "nbformat_minor": 1
}
